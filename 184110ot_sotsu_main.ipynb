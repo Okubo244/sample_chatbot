!pip install line-bot-sdk

#jsonファイルの読み込み
import json
file = open('info.json', 'r')
info = json.load(file)

#どのようなlinebotにするかの決定
from linebot import LineBotApi
from linebot.models import TextSendMessage
#使用するlinebotのチャンネルアクセストークンの読み込み
CHANNEL_ACCESS_TOKEN = info['CHANNEL_ACCESS_TOKEN']
line_bot_api = LineBotApi(CHANNEL_ACCESS_TOKEN)

def main():
  USER_ID = info['USER_ID']
  messages = TextSendMessage(text = "こんにちは～　\n 本日の～です。")
  line_bot_api.push_message(USER_ID, messages = messages)
  
  if __name__ == "__main__":
    main()
