import webbrowser

url = "https://scraping-for-beginner.herokuapp.com/ranking/"

webbrowser.open(url)
